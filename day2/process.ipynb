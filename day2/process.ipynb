{
 "cells": [
  {
   "cell_type": "code",
   "execution_count": 17,
   "metadata": {},
   "outputs": [],
   "source": [
    "import re\n",
    "with open(\"input.txt\", \"r\") as f:\n",
    "    lines = f.readlines()"
   ]
  },
  {
   "cell_type": "code",
   "execution_count": 21,
   "metadata": {},
   "outputs": [
    {
     "name": "stdout",
     "output_type": "stream",
     "text": [
      "54159\n"
     ]
    }
   ],
   "source": [
    "total = 0\n",
    "for l in lines:\n",
    "    l = l.strip()\n",
    "    pattern = re.compile(r'\\d')\n",
    "    matches = pattern.findall(l)\n",
    "    # matches = \"\".join([i for i in l if i.isdigit()])\n",
    "    total += int(matches[0]+matches[-1])\n",
    "print(total)"
   ]
  },
  {
   "cell_type": "code",
   "execution_count": 25,
   "metadata": {},
   "outputs": [
    {
     "name": "stdout",
     "output_type": "stream",
     "text": [
      "53866\n"
     ]
    }
   ],
   "source": [
    "import regex as re2\n",
    "\n",
    "word2num = {\"one\":\"1\", \"two\":\"2\", \"three\":\"3\", \"four\":\"4\", \"five\":\"5\", \"six\":\"6\", \"seven\":\"7\", \"eight\":\"8\", \"nine\":\"9\"}\n",
    "\n",
    "total = 0\n",
    "for l in lines:\n",
    "    l = l.strip()\n",
    "    pattern = re2.compile(r'(one|two|three|four|five|six|seven|eight|nine|\\d)')\n",
    "    matches = pattern.findall(l, overlapped=True)\n",
    "    matches = [word2num[i] if i in word2num else i for i in matches]\n",
    "    if matches:\n",
    "        total += int(matches[0] + matches[-1])\n",
    "print(total)\n",
    "        \n",
    "        "
   ]
  }
 ],
 "metadata": {
  "kernelspec": {
   "display_name": "Python 3",
   "language": "python",
   "name": "python3"
  },
  "language_info": {
   "codemirror_mode": {
    "name": "ipython",
    "version": 3
   },
   "file_extension": ".py",
   "mimetype": "text/x-python",
   "name": "python",
   "nbconvert_exporter": "python",
   "pygments_lexer": "ipython3",
   "version": "3.9.6"
  }
 },
 "nbformat": 4,
 "nbformat_minor": 2
}
